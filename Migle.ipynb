{
 "cells": [
  {
   "cell_type": "markdown",
   "metadata": {},
   "source": [
    "# Egzaminas"
   ]
  },
  {
   "cell_type": "markdown",
   "metadata": {},
   "source": [
    "### Užduotis"
   ]
  },
  {
   "cell_type": "markdown",
   "metadata": {},
   "source": [
    "1. Naudojant `pandas` biblioteką nuskaitykite duotą duomenų failą ir atvaizduokite duomenis."
   ]
  },
  {
   "cell_type": "code",
   "execution_count": null,
   "metadata": {},
   "outputs": [],
   "source": [
    "# Kodą rašykite čia...\n",
    "import pandas as pd\n",
    "\n",
    "df = pd.read_csv('Miglė.csv', encoding='utf-8')\n",
    "df"
   ]
  },
  {
   "cell_type": "markdown",
   "metadata": {},
   "source": [
    "2. Pridėkite naują stulpelį `Vidurkis` ir suskaičiuokite kiekvieno studento vidurkį bei suapvalinkit iki vieno skaičiaus po kablelio."
   ]
  },
  {
   "cell_type": "code",
   "execution_count": null,
   "metadata": {},
   "outputs": [],
   "source": [
    "# Kodą rašykite čia...\n",
    "df['Vidurkis'] = df[['Matematika', 'Fizika', 'Biologija', 'Chemija', 'Istorija', 'Geografija', 'Lietuvių kalba', 'Anglų kalba', 'Informatika', 'Ekonomika', 'Kūno kultūra', 'Muzika', 'Dailė', 'Technologijos']].mean(axis = 1).round(1)\n",
    "df\n",
    "\n",
    "# df['Vidurkis'] = df.loc[:, 'Matematika':'Technologijos'].mean(axis=1).round(1)\n",
    "# df"
   ]
  },
  {
   "cell_type": "markdown",
   "metadata": {},
   "source": [
    "3. Suraskite ir atspausdinkite geriausio studento vardą ir pavardę bei jo vidurkį.\n"
   ]
  },
  {
   "cell_type": "code",
   "execution_count": null,
   "metadata": {},
   "outputs": [],
   "source": [
    "# Kodą rašykite čia...\n",
    "geriausias = df.sort_values('Vidurkis').tail(1)\n",
    "geriausias\n",
    "\n",
    "print(f'{geriausias['Vardas'].values[0]} {geriausias['Pavardė'].values[0]}, Vidurkis: {geriausias['Vidurkis'].values[0]}')"
   ]
  },
  {
   "cell_type": "markdown",
   "metadata": {},
   "source": [
    "4. Pakeiskite geriausio studento vardą ir pavardę į savo ir atspausdinkite kelis įrašus, kad matytusi pakeitimas."
   ]
  },
  {
   "cell_type": "code",
   "execution_count": null,
   "metadata": {},
   "outputs": [],
   "source": [
    "# Kodą rašykite čia...\n",
    "df.loc[9, 'Vardas'] = 'Miglė'\n",
    "df.loc[9, 'Pavardė'] = 'Timofejevaitė'\n",
    "df"
   ]
  },
  {
   "cell_type": "markdown",
   "metadata": {},
   "source": [
    "5. Sukurkite funkciją `stipendija_pagal_vidurki`, kuri priimtų studento vidurkį (kaip argumentą) ir grąžintų jam skirtos stipendijos dydį (`int` tipo skaičių) pagal jo vidurkį.\n",
    "    * Kai vidurkis didesnis arba lygus 9.5 stipendija 200\n",
    "    * Kai vidurkis didesnis arba lygus 9.0, bet mažesnis už 9.5 stipendija 180\n",
    "    * Kai vidurkis didesnis arba lygus 8.5, bet mažesnis už 9.0 stipendija 100\n",
    "    * Jei vidurkis mažesnis už 8.5 studentas stipendijos negauna (0)\n"
   ]
  },
  {
   "cell_type": "code",
   "execution_count": 8,
   "metadata": {},
   "outputs": [],
   "source": [
    "# Kodą rašykite čia...\n",
    "def stipendija_pagal_vidurki(vidurkis):\n",
    "    if vidurkis >= 9.5:\n",
    "        return 200\n",
    "    elif vidurkis >= 9:\n",
    "        return 180\n",
    "    elif vidurkis >= 8.5:\n",
    "        return 100\n",
    "    else:\n",
    "        return 0"
   ]
  },
  {
   "cell_type": "markdown",
   "metadata": {},
   "source": [
    "6. Pridėkite naują stulpelį `Stipendija` ir stulpelį užpildykite duomenimis naudodami funkciją `stipendija_pagal_vidurki` pagal studento vidirkį."
   ]
  },
  {
   "cell_type": "code",
   "execution_count": null,
   "metadata": {},
   "outputs": [],
   "source": [
    "# Kodą rašykite čia...\n",
    "df['Stipendija'] = df['Vidurkis'].apply(stipendija_pagal_vidurki)\n",
    "df"
   ]
  },
  {
   "cell_type": "markdown",
   "metadata": {},
   "source": [
    "7. Suskaičiuokite, kiek studentų kokią stipendiją gauna ir atspausdinkite rezultatą. <span style=\"color:red\">Atvaizduokite rezultatus pie diagramoje.</span>"
   ]
  },
  {
   "cell_type": "code",
   "execution_count": null,
   "metadata": {},
   "outputs": [],
   "source": [
    "# Kodą rašykite čia...\n",
    "df['Stipendija'].value_counts()"
   ]
  },
  {
   "cell_type": "code",
   "execution_count": null,
   "metadata": {},
   "outputs": [],
   "source": [
    "from matplotlib import pyplot as plt\n",
    "\n",
    "plt.rcParams['figure.figsize'] = [16, 5]\n",
    "\n",
    "stipendijos_sk = df['Stipendija'].value_counts()\n",
    "\n",
    "kategorijos = stipendijos_sk.index.astype(str)\n",
    "reiksmes = stipendijos_sk.values\n",
    "\n",
    "def procentai_ir_reiksmes(x):\n",
    "    return f'{x:.1f}%\\n{int(x * stipendijos_sk.sum() / 100)}'\n",
    "\n",
    "plt.pie(reiksmes, labels=kategorijos, autopct=procentai_ir_reiksmes)\n",
    "plt.title(\"Skiriamų stipendijų kiekis\")\n",
    "plt.show()"
   ]
  },
  {
   "cell_type": "markdown",
   "metadata": {},
   "source": [
    "8. Suskaičiuokite studentus pagal lytį ir aspausdinkite rezultatą. <span style=\"color:red\">Atvaizduokite rezultatą stulpelinėje diagramoje.</span>"
   ]
  },
  {
   "cell_type": "code",
   "execution_count": null,
   "metadata": {},
   "outputs": [],
   "source": [
    "# Kodą rašykite čia...\n",
    "df['Lytis'] = df['Pavardė'].str[-1]\n",
    "df"
   ]
  },
  {
   "cell_type": "code",
   "execution_count": null,
   "metadata": {},
   "outputs": [],
   "source": [
    "df['Lytis'] = df['Lytis'].replace('s', 'Vyras')\n",
    "df['Lytis'] = df['Lytis'].replace('ė', 'Moteris')\n",
    "\n",
    "df['Lytis'].value_counts()"
   ]
  },
  {
   "cell_type": "code",
   "execution_count": 13,
   "metadata": {},
   "outputs": [
    {
     "data": {
      "image/png": "[encoded data removed]",
      "text/plain": [
       "<Figure size 1600x500 with 1 Axes>"
      ]
     },
     "metadata": {},
     "output_type": "display_data"
    }
   ],
   "source": [
    "Lytys = df['Lytis'].value_counts()\n",
    "\n",
    "kategorijos = Lytys.astype(str)\n",
    "reiksmes = Lytys.values\n",
    "\n",
    "plt.bar(kategorijos, reiksmes)\n",
    "plt.title(\"Stulpelinė diagrama\")\n",
    "plt.xlabel(\"Kategorijos\")\n",
    "plt.ylabel(\"Reikšmės\")\n",
    "plt.show()"
   ]
  }
 ],
 "metadata": {
  "kernelspec": {
   "display_name": "Python 3",
   "language": "python",
   "name": "python3"
  },
  "language_info": {
   "codemirror_mode": {
    "name": "ipython",
    "version": 3
   },
   "file_extension": ".py",
   "mimetype": "text/x-python",
   "name": "python",
   "nbconvert_exporter": "python",
   "pygments_lexer": "ipython3",
   "version": "3.13.0"
  }
 },
 "nbformat": 4,
 "nbformat_minor": 2
}
